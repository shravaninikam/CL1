{
 "cells": [
  {
   "cell_type": "code",
   "execution_count": 17,
   "metadata": {},
   "outputs": [
    {
     "name": "stdout",
     "output_type": "stream",
     "text": [
      "State (0, 0): Max Q-value = 0.76, Action = 3\n",
      "State (0, 1): Max Q-value = 0.84, Action = 3\n",
      "State (0, 2): Max Q-value = 0.93, Action = 1\n",
      "State (0, 3): Max Q-value = 1.04, Action = 1\n",
      "State (0, 4): Max Q-value = 0.64, Action = 1\n",
      "State (1, 0): Max Q-value = 0.84, Action = 1\n",
      "State (1, 1): Max Q-value = 0.75, Action = 3\n",
      "State (1, 2): Max Q-value = 1.04, Action = 3\n",
      "State (1, 3): Max Q-value = 1.15, Action = 3\n",
      "State (1, 4): Max Q-value = 1.28, Action = 1\n",
      "State (2, 0): Max Q-value = 0.93, Action = 1\n",
      "State (2, 1): Max Q-value = 1.04, Action = 1\n",
      "State (2, 2): Max Q-value = 0.49, Action = 1\n",
      "State (2, 3): Max Q-value = 0.91, Action = 2\n",
      "State (2, 4): Max Q-value = 1.42, Action = 1\n",
      "State (3, 0): Max Q-value = 1.04, Action = 3\n",
      "State (3, 1): Max Q-value = 1.15, Action = 3\n",
      "State (3, 2): Max Q-value = 1.28, Action = 1\n",
      "State (3, 3): Max Q-value = 0.90, Action = 3\n",
      "State (3, 4): Max Q-value = 1.58, Action = 1\n",
      "State (4, 0): Max Q-value = 0.89, Action = 3\n",
      "State (4, 1): Max Q-value = 1.28, Action = 3\n",
      "State (4, 2): Max Q-value = 1.42, Action = 3\n",
      "State (4, 3): Max Q-value = 1.58, Action = 3\n",
      "State (4, 4): Max Q-value = 0.64, Action = 2\n"
     ]
    }
   ],
   "source": [
    "import numpy as np\n",
    "\n",
    "# Maze and Q-table setup\n",
    "maze = np.array([\n",
    "    [1, 1, 1, 1, 0],\n",
    "    [1, 0, 1, 1, 1],\n",
    "    [1, 1, 0, 0, 1],\n",
    "    [1, 1, 1, 0, 1],\n",
    "    [0, 1, 1, 1, 1]\n",
    "])\n",
    "q_table = np.random.rand(5, 5, 4)\n",
    "\n",
    "# Hyperparameters\n",
    "alpha = 0.1  # learning rate\n",
    "gamma = 0.9  # discount factor\n",
    "epsilon = 0.2  # exploration factor\n",
    "\n",
    "moves = [(-1, 0), (1, 0), (0, -1), (0, 1)]  # Directions: up, down, left, right\n",
    "\n",
    "# Training\n",
    "for _ in range(10000):\n",
    "    state = (np.random.randint(5), np.random.randint(5))\n",
    "    if maze[state] == 0: continue  # Skip if starting in a wall\n",
    "\n",
    "    while state != (4, 4):\n",
    "        # Action selection\n",
    "        if np.random.rand() < epsilon:\n",
    "            action = np.random.randint(4)  # Random action (explore)\n",
    "        else:\n",
    "            action = np.argmax(q_table[state])  # Best action (exploit)\n",
    "\n",
    "        # Determine the next state based on the action\n",
    "        if action == 0:  # Up\n",
    "            next_state = (state[0] - 1, state[1])\n",
    "        elif action == 1:  # Down\n",
    "            next_state = (state[0] + 1, state[1])\n",
    "        elif action == 2:  # Left\n",
    "            next_state = (state[0], state[1] - 1)\n",
    "        elif action == 3:  # Right\n",
    "            next_state = (state[0], state[1] + 1)\n",
    "\n",
    "                # Check if the next state is valid (within bounds and not a wall)\n",
    "        if 0 <= next_state[0] < 5 and 0 <= next_state[1] < 5 and maze[next_state] == 1:\n",
    "            reward = 1 if next_state == (4, 4) else 0  # Reward is 1 if goal, else 0\n",
    "            # Update Q-value using the Q-learning formula\n",
    "            q_table[state][action] += alpha * (reward + gamma * np.max(q_table[next_state]) - q_table[state][action])\n",
    "            state = next_state  # Move to the next state\n",
    "        else:\n",
    "            # Penalty for invalid move (out of bounds or into a wall)\n",
    "            q_table[state][action] -= alpha\n",
    "\n",
    "\n",
    "# Display max Q-values and actions\n",
    "for i in range(5):\n",
    "    for j in range(5):\n",
    "        print(f\"State ({i}, {j}): Max Q-value = {np.max(q_table[i, j]):.2f}, Action = {np.argmax(q_table[i, j])}\")\n"
   ]
  },
  {
   "cell_type": "code",
   "execution_count": null,
   "metadata": {},
   "outputs": [],
   "source": []
  }
 ],
 "metadata": {
  "kernelspec": {
   "display_name": "usr",
   "language": "python",
   "name": "python3"
  },
  "language_info": {
   "codemirror_mode": {
    "name": "ipython",
    "version": 3
   },
   "file_extension": ".py",
   "mimetype": "text/x-python",
   "name": "python",
   "nbconvert_exporter": "python",
   "pygments_lexer": "ipython3",
   "version": "3.12.7"
  }
 },
 "nbformat": 4,
 "nbformat_minor": 2
}
